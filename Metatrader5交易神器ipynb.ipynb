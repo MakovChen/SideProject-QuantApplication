{
  "nbformat": 4,
  "nbformat_minor": 0,
  "metadata": {
    "colab": {
      "provenance": [],
      "gpuType": "T4",
      "authorship_tag": "ABX9TyMKAL140Y7Y5vlXV3KxLvfp",
      "include_colab_link": true
    },
    "kernelspec": {
      "name": "python3",
      "display_name": "Python 3"
    },
    "language_info": {
      "name": "python"
    }
  },
  "cells": [
    {
      "cell_type": "markdown",
      "metadata": {
        "id": "view-in-github",
        "colab_type": "text"
      },
      "source": [
        "<a href=\"https://colab.research.google.com/github/MakovChen/SideProject-QuantApplication/blob/main/Metatrader5%E4%BA%A4%E6%98%93%E7%A5%9E%E5%99%A8ipynb.ipynb\" target=\"_parent\"><img src=\"https://colab.research.google.com/assets/colab-badge.svg\" alt=\"Open In Colab\"/></a>"
      ]
    },
    {
      "cell_type": "code",
      "source": [
        "import requests, random\n",
        "import pandas as pd\n",
        "import tensorflow.compat.v1 as tf\n",
        "from tensorflow.python.saved_model import tag_constants\n",
        "import numpy as np\n",
        "from google.colab import drive\n",
        "import matplotlib.pyplot as plt\n",
        "\n",
        "drive.mount('/content/drive')"
      ],
      "metadata": {
        "id": "RXAtX5wp3AaL",
        "colab": {
          "base_uri": "https://localhost:8080/"
        },
        "outputId": "080e15df-176e-44fe-e3e4-b9fc1ad6028d"
      },
      "execution_count": 1,
      "outputs": [
        {
          "output_type": "stream",
          "name": "stdout",
          "text": [
            "Drive already mounted at /content/drive; to attempt to forcibly remount, call drive.mount(\"/content/drive\", force_remount=True).\n"
          ]
        }
      ]
    },
    {
      "cell_type": "code",
      "source": [
        "def get_data(api_key, from_currency, to_currency):\n",
        "    url = f\"https://www.alphavantage.co/query?function=FX_DAILY&from_symbol={from_currency}&to_symbol={to_currency}&apikey={api_key}&outputsize=full\"\n",
        "    response = requests.get(url)\n",
        "    data = response.json()\n",
        "    forex_data = data['Time Series FX (Daily)']\n",
        "    data_dict = {\"Datetime\": [], \"Open\": [], \"High\": [], \"Low\": [], \"Close\": []}\n",
        "    for date, values in forex_data.items():\n",
        "        O, H, C, L = values['1. open'], values['2. high'], values['3. low'], values['4. close']\n",
        "        data_dict['Datetime'].append(date); data_dict[\"Open\"].append(O); data_dict[\"High\"].append(H); data_dict[\"Low\"].append(L); data_dict[\"Close\"].append(C)\n",
        "    temp_df = pd.DataFrame(data_dict)\n",
        "    temp_df['Datetime'], temp_df[\"Open\"], temp_df[\"High\"], temp_df[\"Low\"], temp_df[\"Close\"] = pd.to_datetime(temp_df['Datetime']), pd.to_numeric(temp_df[\"Open\"]), pd.to_numeric(temp_df[\"High\"]), pd.to_numeric(temp_df[\"Low\"]), pd.to_numeric(temp_df[\"Close\"])\n",
        "    temp_df = temp_df.sort_values('Datetime')\n",
        "    return temp_df.set_index('Datetime')\n",
        "\n",
        "#多單交易回報模擬\n",
        "def Open_Bull_Sheet(temp_df, asset, profit_ratio = 1.5, parts = 0.05, leverage = 75):\n",
        "    fund = asset * parts\n",
        "    entry_price = np.clip(np.random.normal(temp_df.Close[0], (temp_df.High[0] - temp_df.Low[0])/3, 1)[0], temp_df.High[0], temp_df.Low[0])\n",
        "    position = float(\"{:.2f}\".format(fund * leverage / 100000 / entry_price))\n",
        "    stop_loss =  round(-(fund / 100000 / position) + entry_price, 5)\n",
        "    stop_earn =  round(entry_price + (entry_price - stop_loss) * profit_ratio, 4)\n",
        "    exist_point = {'High': stop_earn, 'Low': stop_loss}\n",
        "    flag = False\n",
        "    #plt.figure(figsize=[15, 3]); plt.plot(list(temp_df.Low)[:60]); plt.plot(list(temp_df.High)[:60]); plt.plot([0, 60],[stop_earn, stop_earn]); plt.plot([0, 60],[stop_loss, stop_loss]); plt.show()\n",
        "    for i in range(1, temp_df.shape[0] - 1):\n",
        "        current_price = temp_df.High[i]\n",
        "        if temp_df.High[i] > exist_point['High'] or temp_df.Low[i] < exist_point['Low']:\n",
        "            flag = True; break\n",
        "        elif (current_price - entry_price) > (stop_earn - entry_price) * 0.5:\n",
        "            exist_point['Low'] = entry_price + (stop_earn - entry_price) * 0.218\n",
        "        elif (current_price - entry_price) > (stop_earn - entry_price) * 0.618:\n",
        "            exist_point['Low'] = entry_price + (stop_earn - entry_price) * 0.382\n",
        "        elif (current_price - entry_price) > (stop_earn - entry_price) * 0.782:\n",
        "            exist_point['Low'] = entry_price + (stop_earn - entry_price) * 0.5\n",
        "    exist_price = max([temp_df.Low[i], exist_point['Low']]) if temp_df.Low[i] < exist_point['Low'] else min([temp_df.High[i], exist_point['High']])\n",
        "    profit = (exist_price - entry_price) * 100000 * position\n",
        "    #print('可用資金:', fund, '當前價格', entry_price, '可下口數:', position, '停損價格', stop_loss, '停利價格', stop_earn)\n",
        "    return profit, profit > 0, flag, i\n",
        "\n",
        "def Sheet(entry_price, asset, profit_ratio = 1.5, parts = 0.05, leverage = 75):\n",
        "    fund = asset * parts\n",
        "    position = float(\"{:.2f}\".format(fund * leverage / 100000 / entry_price))\n",
        "    stop_loss =  round(-(fund / 100000 / position) + entry_price, 5)\n",
        "    stop_earn =  round(entry_price + (entry_price - stop_loss) * profit_ratio, 4)\n",
        "    exist_point = {'High': stop_earn, 'Low': stop_loss}\n",
        "    stop_earn218 = round(entry_price + (stop_earn - entry_price) * 0.218, 5)\n",
        "    stop_earn382 = round(entry_price + (stop_earn - entry_price) * 0.382, 5)\n",
        "    stop_earn5 = round(entry_price + (stop_earn - entry_price) * 0.5, 5)\n",
        "    stop_earn618 = round(entry_price + (stop_earn - entry_price) * 0.618, 5)\n",
        "    stop_earn782 = round(entry_price + (stop_earn - entry_price) * 0.782, 5)\n",
        "    return entry_price, position, stop_loss, stop_earn, stop_earn218, stop_earn382, stop_earn5, stop_earn618, stop_earn782\n",
        "\n",
        "def sampling(temp_df, parts, asset_given = 500):\n",
        "    p, f = [], []\n",
        "    for _ in range(30):\n",
        "        profit, flag = Open_Bull_Sheet(temp_df, asset_given, parts)\n",
        "        p.append(profit), f.append(flag)\n",
        "    avg_profit, win_prob = np.mean(p), np.mean(f)\n",
        "    return avg_profit, win_prob"
      ],
      "metadata": {
        "id": "t2mL6CmqAMKo"
      },
      "execution_count": 2,
      "outputs": []
    },
    {
      "cell_type": "code",
      "source": [
        "def test(test_df):\n",
        "  history = []\n",
        "  asset_update = 500\n",
        "  win, loss, i = 0, 0, 0\n",
        "  while i < test_df.shape[0] - 2:\n",
        "      if test_df.Pos[i] > 0.8 and test_df.Neg[i] < 0.2:\n",
        "          profit, _, _, delay = Open_Bull_Sheet(test_df.iloc[i:, :], asset_update, profit_ratio = 1.5, parts = 0.15, leverage = 75)\n",
        "          asset_update += profit\n",
        "          if profit > 0:\n",
        "              win += 1\n",
        "          else:\n",
        "              loss += 1\n",
        "          i += delay - 1\n",
        "      history.append(asset_update)\n",
        "      i += 1\n",
        "  plt.figure(figsize=[15, 3]); plt.plot(history); plt.show()\n",
        "  print('【模型版本 年化報酬', asset_update * 100/ 500 - 100,'% (勝率',round(win * 100/ (win + loss) , 2),'%, 交易', win + loss, '次)】')\n",
        "\n",
        "def get_prediction(target, version, timestep, timestep_inv, balance, ohlc_scale_rate, ohlc_scale_rate_n, ohlc_scale_rate_inv, ohlc_scale_rate_n_inv):\n",
        "    df = get_data('BG6KLRFVZIPNDFYP', target, 'USD')\n",
        "    df_inv = get_data('BG6KLRFVZIPNDFYP', 'USD', target)\n",
        "    #蒐集驗證樣本\n",
        "    X, Xn, t = [], [], []\n",
        "    for i in range(df.shape[0] - timestep - 2):\n",
        "        if df.index[i + timestep] < pd.to_datetime(\"2023-06-21\") and df.index[i + timestep] > pd.to_datetime(\"2022-07-07\"):\n",
        "            series_df = df.loc[:, ['Open', 'High', 'Low', 'Close']].iloc[i: i + timestep, :].copy()\n",
        "            series = np.array(series_df).flatten()\n",
        "            x_p = np.array(np.degrees((series / series[0] - 1) * ohlc_scale_rate).astype(int) + 180 - 1)\n",
        "            x_n = np.array(np.degrees((series / series[-1] - 1) * ohlc_scale_rate_n).astype(int) + 180 - 1)\n",
        "            X.append(np.concatenate((x_p, x_n)))\n",
        "\n",
        "            series = np.array(df_inv.loc[:series_df.index[-1], ['Open', 'High', 'Low', 'Close']].iloc[-timestep_inv:, :].copy()).flatten()\n",
        "            x_p = np.array(np.degrees((series / series[0] - 1) * ohlc_scale_rate_inv).astype(int) + 180 - 1)\n",
        "            x_n = np.array(np.degrees((series / series[-1] - 1) * ohlc_scale_rate_n_inv).astype(int) + 180 - 1)\n",
        "            Xn.append(np.concatenate((x_p, x_n)))\n",
        "\n",
        "            t.append(df.index[i + timestep])\n",
        "\n",
        "    graph = tf.Graph()\n",
        "    with graph.as_default():\n",
        "        with tf.Session(graph=graph) as sess:\n",
        "            loaded_model = tf.saved_model.loader.load(sess, [tag_constants.SERVING], '/content/drive/My Drive/' + target + '_server/model_' + version)\n",
        "            Input = graph.get_tensor_by_name('X:0')\n",
        "            Output = graph.get_tensor_by_name('dense_8/Softmax:0')\n",
        "            #模型預測與價值估算\n",
        "            y_pred =  sess.run(Output, {Input: np.array(X)})\n",
        "\n",
        "            #實際預測\n",
        "            series = np.array(df.loc[:, ['Open', 'High', 'Low', 'Close']].iloc[-timestep: , :]).flatten()\n",
        "            x_p = np.array(np.degrees((series / series[0] - 1) * ohlc_scale_rate).astype(int) + 180 - 1)\n",
        "            x_n = np.array(np.degrees((series / series[-1] - 1) * ohlc_scale_rate_n).astype(int) + 180 - 1)\n",
        "            x_real = np.concatenate((x_p, x_n))\n",
        "            prob = sess.run(Output, {Input: np.array([x_real])})[0][1]\n",
        "\n",
        "    graph = tf.Graph()\n",
        "    with graph.as_default():\n",
        "        with tf.Session(graph=graph) as sess:\n",
        "            loaded_model = tf.saved_model.loader.load(sess, [tag_constants.SERVING], '/content/drive/My Drive/' + target + 'n_server/model_' + version)\n",
        "            Input = graph.get_tensor_by_name('X:0')\n",
        "            Output = graph.get_tensor_by_name('dense_8/Softmax:0')\n",
        "            #模型預測與價值估算\n",
        "            y_pred_n =  sess.run(Output, {Input: np.array(Xn)})\n",
        "\n",
        "            #實際預測\n",
        "            series = np.array(df_inv.loc[:, ['Open', 'High', 'Low', 'Close']].iloc[-timestep_inv: , :]).flatten()\n",
        "            x_p = np.array(np.degrees((series / series[0] - 1) * ohlc_scale_rate_inv).astype(int) + 180 - 1)\n",
        "            x_n = np.array(np.degrees((series / series[-1] - 1) * ohlc_scale_rate_n_inv).astype(int) + 180 - 1)\n",
        "            x_real_n = np.concatenate((x_p, x_n))\n",
        "            prob_n = sess.run(Output, {Input: np.array([x_real_n])})[0][1]\n",
        "\n",
        "    temp_df = df.copy().loc[\"2022-07-07\":\"2023-06-21\", :]\n",
        "    temp_df['Pos'] = 0; temp_df['Neg'] = 0\n",
        "    for i, j, k in zip(t, y_pred[:,1], y_pred_n[:,1]):\n",
        "        temp_df['Pos'][i], temp_df['Neg'][i] = j, k\n",
        "\n",
        "    test(temp_df)\n",
        "\n",
        "    entry_price, position, stop_loss, stop_earn, stop_earn218, stop_earn382, stop_earn5, stop_earn618, stop_earn782 = Sheet(df.Close[-1], balance)\n",
        "    print(df.index[-1], target, '當前價格', entry_price, '可下口數:', position, \"(多:\",prob,\"空:\",prob_n,\")\")\n",
        "    if prob > 0.8 and prob_n < 0.2:\n",
        "        print('>>> 停損價格', stop_loss)\n",
        "        print('>>> 100% 停利價格', stop_earn)\n",
        "        print('>>> 抵達', stop_earn5, '停利價格(Tradingview設定通知)', stop_earn218)\n",
        "        print('>>> 抵達', stop_earn618, '停利價格(Tradingview設定通知)', stop_earn382)\n",
        "        print('>>> 抵達', stop_earn782, '停利價格(Tradingview設定通知)', stop_earn5)"
      ],
      "metadata": {
        "id": "hj0DynizVWSa"
      },
      "execution_count": 5,
      "outputs": []
    },
    {
      "cell_type": "code",
      "source": [
        "balance = 100000\n",
        "get_prediction('EUR', '2022-07-06', 7, 14, balance = balance, ohlc_scale_rate = 22.64820225337517, ohlc_scale_rate_n = 32.22354062072263, ohlc_scale_rate_inv = 36.45988202325782, ohlc_scale_rate_n_inv = 39.8697516408773)"
      ],
      "metadata": {
        "colab": {
          "base_uri": "https://localhost:8080/",
          "height": 412
        },
        "id": "SQTMu8b8Cnxv",
        "outputId": "86cd5e79-4d5a-43db-be70-eacb3f3a6297"
      },
      "execution_count": 6,
      "outputs": [
        {
          "output_type": "stream",
          "name": "stderr",
          "text": [
            "<ipython-input-5-5157c38897d2>:74: SettingWithCopyWarning: \n",
            "A value is trying to be set on a copy of a slice from a DataFrame\n",
            "\n",
            "See the caveats in the documentation: https://pandas.pydata.org/pandas-docs/stable/user_guide/indexing.html#returning-a-view-versus-a-copy\n",
            "  temp_df['Pos'][i], temp_df['Neg'][i] = j, k\n"
          ]
        },
        {
          "output_type": "display_data",
          "data": {
            "text/plain": [
              "<Figure size 1500x300 with 1 Axes>"
            ],
            "image/png": "[encoded data removed]"
          },
          "metadata": {}
        },
        {
          "output_type": "stream",
          "name": "stdout",
          "text": [
            "【模型版本 年化報酬 768.5963239999988 % (勝率 89.47 %, 交易 19 次)】\n",
            "2023-07-07 00:00:00 EUR 當前價格 1.08668 可下口數: 3.45 (多: 0.9076435 空: 0.9626542 )\n"
          ]
        }
      ]
    }
  ]
}