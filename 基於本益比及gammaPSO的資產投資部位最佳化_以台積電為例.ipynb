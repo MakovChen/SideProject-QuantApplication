{
  "nbformat": 4,
  "nbformat_minor": 0,
  "metadata": {
    "colab": {
      "provenance": [],
      "authorship_tag": "ABX9TyMcbh7Q80vHViaeYI2+yvCJ",
      "include_colab_link": true
    },
    "kernelspec": {
      "name": "python3",
      "display_name": "Python 3"
    },
    "language_info": {
      "name": "python"
    }
  },
  "cells": [
    {
      "cell_type": "markdown",
      "metadata": {
        "id": "view-in-github",
        "colab_type": "text"
      },
      "source": [
        "<a href=\"https://colab.research.google.com/github/MakovChen/SideProject-QuantApplication/blob/main/%E5%9F%BA%E6%96%BC%E6%9C%AC%E7%9B%8A%E6%AF%94%E5%8F%8AgammaPSO%E7%9A%84%E8%B3%87%E7%94%A2%E6%8A%95%E8%B3%87%E9%83%A8%E4%BD%8D%E6%9C%80%E4%BD%B3%E5%8C%96_%E4%BB%A5%E5%8F%B0%E7%A9%8D%E9%9B%BB%E7%82%BA%E4%BE%8B.ipynb\" target=\"_parent\"><img src=\"https://colab.research.google.com/assets/colab-badge.svg\" alt=\"Open In Colab\"/></a>"
      ]
    },
    {
      "cell_type": "markdown",
      "source": [
        "### **安裝相依工具包**"
      ],
      "metadata": {
        "id": "oN_uE6MVQ0DG"
      }
    },
    {
      "cell_type": "code",
      "execution_count": null,
      "metadata": {
        "colab": {
          "base_uri": "https://localhost:8080/"
        },
        "id": "IQ1EHJH-Qdlk",
        "outputId": "6f423836-8f2f-494d-f886-715c95fd7dc5"
      },
      "outputs": [
        {
          "output_type": "stream",
          "name": "stdout",
          "text": [
            "Looking in indexes: https://pypi.org/simple, https://us-python.pkg.dev/colab-wheels/public/simple/\n",
            "Requirement already satisfied: yfinance in /usr/local/lib/python3.9/dist-packages (0.2.12)\n",
            "Requirement already satisfied: frozendict>=2.3.4 in /usr/local/lib/python3.9/dist-packages (from yfinance) (2.3.5)\n",
            "Requirement already satisfied: html5lib>=1.1 in /usr/local/lib/python3.9/dist-packages (from yfinance) (1.1)\n",
            "Requirement already satisfied: pytz>=2022.5 in /usr/local/lib/python3.9/dist-packages (from yfinance) (2022.7.1)\n",
            "Requirement already satisfied: requests>=2.26 in /usr/local/lib/python3.9/dist-packages (from yfinance) (2.28.2)\n",
            "Requirement already satisfied: beautifulsoup4>=4.11.1 in /usr/local/lib/python3.9/dist-packages (from yfinance) (4.11.2)\n",
            "Requirement already satisfied: multitasking>=0.0.7 in /usr/local/lib/python3.9/dist-packages (from yfinance) (0.0.11)\n",
            "Requirement already satisfied: pandas>=1.3.0 in /usr/local/lib/python3.9/dist-packages (from yfinance) (1.3.5)\n",
            "Requirement already satisfied: lxml>=4.9.1 in /usr/local/lib/python3.9/dist-packages (from yfinance) (4.9.2)\n",
            "Requirement already satisfied: appdirs>=1.4.4 in /usr/local/lib/python3.9/dist-packages (from yfinance) (1.4.4)\n",
            "Requirement already satisfied: numpy>=1.16.5 in /usr/local/lib/python3.9/dist-packages (from yfinance) (1.22.4)\n",
            "Requirement already satisfied: cryptography>=3.3.2 in /usr/local/lib/python3.9/dist-packages (from yfinance) (39.0.2)\n",
            "Requirement already satisfied: soupsieve>1.2 in /usr/local/lib/python3.9/dist-packages (from beautifulsoup4>=4.11.1->yfinance) (2.4)\n",
            "Requirement already satisfied: cffi>=1.12 in /usr/local/lib/python3.9/dist-packages (from cryptography>=3.3.2->yfinance) (1.15.1)\n",
            "Requirement already satisfied: webencodings in /usr/local/lib/python3.9/dist-packages (from html5lib>=1.1->yfinance) (0.5.1)\n",
            "Requirement already satisfied: six>=1.9 in /usr/local/lib/python3.9/dist-packages (from html5lib>=1.1->yfinance) (1.15.0)\n",
            "Requirement already satisfied: python-dateutil>=2.7.3 in /usr/local/lib/python3.9/dist-packages (from pandas>=1.3.0->yfinance) (2.8.2)\n",
            "Requirement already satisfied: idna<4,>=2.5 in /usr/local/lib/python3.9/dist-packages (from requests>=2.26->yfinance) (2.10)\n",
            "Requirement already satisfied: urllib3<1.27,>=1.21.1 in /usr/local/lib/python3.9/dist-packages (from requests>=2.26->yfinance) (1.26.14)\n",
            "Requirement already satisfied: charset-normalizer<4,>=2 in /usr/local/lib/python3.9/dist-packages (from requests>=2.26->yfinance) (3.1.0)\n",
            "Requirement already satisfied: certifi>=2017.4.17 in /usr/local/lib/python3.9/dist-packages (from requests>=2.26->yfinance) (2022.12.7)\n",
            "Requirement already satisfied: pycparser in /usr/local/lib/python3.9/dist-packages (from cffi>=1.12->cryptography>=3.3.2->yfinance) (2.21)\n",
            "Looking in indexes: https://pypi.org/simple, https://us-python.pkg.dev/colab-wheels/public/simple/\n",
            "Requirement already satisfied: mpl_finance in /usr/local/lib/python3.9/dist-packages (0.10.1)\n",
            "Requirement already satisfied: matplotlib in /usr/local/lib/python3.9/dist-packages (from mpl_finance) (3.5.3)\n",
            "Requirement already satisfied: packaging>=20.0 in /usr/local/lib/python3.9/dist-packages (from matplotlib->mpl_finance) (23.0)\n",
            "Requirement already satisfied: pillow>=6.2.0 in /usr/local/lib/python3.9/dist-packages (from matplotlib->mpl_finance) (8.4.0)\n",
            "Requirement already satisfied: kiwisolver>=1.0.1 in /usr/local/lib/python3.9/dist-packages (from matplotlib->mpl_finance) (1.4.4)\n",
            "Requirement already satisfied: python-dateutil>=2.7 in /usr/local/lib/python3.9/dist-packages (from matplotlib->mpl_finance) (2.8.2)\n",
            "Requirement already satisfied: numpy>=1.17 in /usr/local/lib/python3.9/dist-packages (from matplotlib->mpl_finance) (1.22.4)\n",
            "Requirement already satisfied: pyparsing>=2.2.1 in /usr/local/lib/python3.9/dist-packages (from matplotlib->mpl_finance) (3.0.9)\n",
            "Requirement already satisfied: fonttools>=4.22.0 in /usr/local/lib/python3.9/dist-packages (from matplotlib->mpl_finance) (4.39.0)\n",
            "Requirement already satisfied: cycler>=0.10 in /usr/local/lib/python3.9/dist-packages (from matplotlib->mpl_finance) (0.11.0)\n",
            "Requirement already satisfied: six>=1.5 in /usr/local/lib/python3.9/dist-packages (from python-dateutil>=2.7->matplotlib->mpl_finance) (1.15.0)\n"
          ]
        }
      ],
      "source": [
        "!pip install yfinance\n",
        "!pip install mpl_finance\n",
        "import mpl_finance as mpf\n",
        "import matplotlib.pyplot as plt\n",
        "import pandas as pd\n",
        "import numpy as np\n",
        "import yfinance as yf\n",
        "import seaborn as sns\n",
        "import scipy"
      ]
    },
    {
      "cell_type": "markdown",
      "source": [
        "### **從YAHOO擷取歷史成交紀錄**"
      ],
      "metadata": {
        "id": "FGnmyrZ6RM40"
      }
    },
    {
      "cell_type": "code",
      "source": [
        "CODE = '2330' #輸入股票代號"
      ],
      "metadata": {
        "id": "hv2DOXlBRbxI"
      },
      "execution_count": null,
      "outputs": []
    },
    {
      "cell_type": "code",
      "source": [
        "#獲取資料表，保留收盤日之欄位\n",
        "df = yf.Ticker(CODE + \".TW\").history(period=\"max\").loc[:,['Open', 'High', 'Low', 'Close', 'Volume']]\n",
        "df = df.reindex(pd.date_range(df.index[0],df.index[-1],freq='D'))\n",
        "#繪製K線圖及資料表\n",
        "fig = plt.figure(figsize=[24, 5]); ax = plt.subplot(111)\n",
        "mpf.candlestick2_ochl(ax, df.Open, df.Close, df.High, df.Low, width=0.5, colorup='g', colordown='r')\n",
        "plt.show()\n",
        "df"
      ],
      "metadata": {
        "colab": {
          "base_uri": "https://localhost:8080/",
          "height": 727
        },
        "id": "sSpFcx-_Q-9F",
        "outputId": "2524bb5b-ccf3-48fb-b72a-2417adbde00b"
      },
      "execution_count": null,
      "outputs": [
        {
          "output_type": "display_data",
          "data": {
            "text/plain": [
              "<Figure size 1728x360 with 1 Axes>"
            ],
            "image/png": "[encoded data removed]"
          },
          "metadata": {
            "needs_background": "light"
          }
        },
        {
          "output_type": "execute_result",
          "data": {
            "text/plain": [
              "                                 Open        High         Low       Close  \\\n",
              "2000-01-04 00:00:00+08:00   35.393497   35.393497   34.796982   35.393497   \n",
              "2000-01-05 00:00:00+08:00   35.393488   36.188778   34.995748   36.188778   \n",
              "2000-01-06 00:00:00+08:00   35.990012   36.188787   35.393497   35.393497   \n",
              "2000-01-07 00:00:00+08:00   34.200464   34.796979   33.802724   34.399239   \n",
              "2000-01-08 00:00:00+08:00         NaN         NaN         NaN         NaN   \n",
              "...                               ...         ...         ...         ...   \n",
              "2023-03-06 00:00:00+08:00  520.000000  524.000000  517.000000  521.000000   \n",
              "2023-03-07 00:00:00+08:00  521.000000  526.000000  519.000000  524.000000   \n",
              "2023-03-08 00:00:00+08:00  521.000000  523.000000  518.000000  521.000000   \n",
              "2023-03-09 00:00:00+08:00  525.000000  526.000000  522.000000  522.000000   \n",
              "2023-03-10 00:00:00+08:00  515.000000  516.000000  511.000000  513.000000   \n",
              "\n",
              "                                 Volume  \n",
              "2000-01-04 00:00:00+08:00  2.006623e+11  \n",
              "2000-01-05 00:00:00+08:00  4.024668e+11  \n",
              "2000-01-06 00:00:00+08:00  1.975457e+11  \n",
              "2000-01-07 00:00:00+08:00  2.352703e+11  \n",
              "2000-01-08 00:00:00+08:00           NaN  \n",
              "...                                 ...  \n",
              "2023-03-06 00:00:00+08:00  2.192208e+07  \n",
              "2023-03-07 00:00:00+08:00  2.486108e+07  \n",
              "2023-03-08 00:00:00+08:00  2.451241e+07  \n",
              "2023-03-09 00:00:00+08:00  2.155758e+07  \n",
              "2023-03-10 00:00:00+08:00  2.404560e+07  \n",
              "\n",
              "[8467 rows x 5 columns]"
            ],
            "text/html": [
              "\n",
              "  <div id=\"df-1dc38707-d49c-464b-9752-403ab1c9cc86\">\n",
              "    <div class=\"colab-df-container\">\n",
              "      <div>\n",
              "<style scoped>\n",
              "    .dataframe tbody tr th:only-of-type {\n",
              "        vertical-align: middle;\n",
              "    }\n",
              "\n",
              "    .dataframe tbody tr th {\n",
              "        vertical-align: top;\n",
              "    }\n",
              "\n",
              "    .dataframe thead th {\n",
              "        text-align: right;\n",
              "    }\n",
              "</style>\n",
              "<table border=\"1\" class=\"dataframe\">\n",
              "  <thead>\n",
              "    <tr style=\"text-align: right;\">\n",
              "      <th></th>\n",
              "      <th>Open</th>\n",
              "      <th>High</th>\n",
              "      <th>Low</th>\n",
              "      <th>Close</th>\n",
              "      <th>Volume</th>\n",
              "    </tr>\n",
              "  </thead>\n",
              "  <tbody>\n",
              "    <tr>\n",
              "      <th>2000-01-04 00:00:00+08:00</th>\n",
              "      <td>35.393497</td>\n",
              "      <td>35.393497</td>\n",
              "      <td>34.796982</td>\n",
              "      <td>35.393497</td>\n",
              "      <td>2.006623e+11</td>\n",
              "    </tr>\n",
              "    <tr>\n",
              "      <th>2000-01-05 00:00:00+08:00</th>\n",
              "      <td>35.393488</td>\n",
              "      <td>36.188778</td>\n",
              "      <td>34.995748</td>\n",
              "      <td>36.188778</td>\n",
              "      <td>4.024668e+11</td>\n",
              "    </tr>\n",
              "    <tr>\n",
              "      <th>2000-01-06 00:00:00+08:00</th>\n",
              "      <td>35.990012</td>\n",
              "      <td>36.188787</td>\n",
              "      <td>35.393497</td>\n",
              "      <td>35.393497</td>\n",
              "      <td>1.975457e+11</td>\n",
              "    </tr>\n",
              "    <tr>\n",
              "      <th>2000-01-07 00:00:00+08:00</th>\n",
              "      <td>34.200464</td>\n",
              "      <td>34.796979</td>\n",
              "      <td>33.802724</td>\n",
              "      <td>34.399239</td>\n",
              "      <td>2.352703e+11</td>\n",
              "    </tr>\n",
              "    <tr>\n",
              "      <th>2000-01-08 00:00:00+08:00</th>\n",
              "      <td>NaN</td>\n",
              "      <td>NaN</td>\n",
              "      <td>NaN</td>\n",
              "      <td>NaN</td>\n",
              "      <td>NaN</td>\n",
              "    </tr>\n",
              "    <tr>\n",
              "      <th>...</th>\n",
              "      <td>...</td>\n",
              "      <td>...</td>\n",
              "      <td>...</td>\n",
              "      <td>...</td>\n",
              "      <td>...</td>\n",
              "    </tr>\n",
              "    <tr>\n",
              "      <th>2023-03-06 00:00:00+08:00</th>\n",
              "      <td>520.000000</td>\n",
              "      <td>524.000000</td>\n",
              "      <td>517.000000</td>\n",
              "      <td>521.000000</td>\n",
              "      <td>2.192208e+07</td>\n",
              "    </tr>\n",
              "    <tr>\n",
              "      <th>2023-03-07 00:00:00+08:00</th>\n",
              "      <td>521.000000</td>\n",
              "      <td>526.000000</td>\n",
              "      <td>519.000000</td>\n",
              "      <td>524.000000</td>\n",
              "      <td>2.486108e+07</td>\n",
              "    </tr>\n",
              "    <tr>\n",
              "      <th>2023-03-08 00:00:00+08:00</th>\n",
              "      <td>521.000000</td>\n",
              "      <td>523.000000</td>\n",
              "      <td>518.000000</td>\n",
              "      <td>521.000000</td>\n",
              "      <td>2.451241e+07</td>\n",
              "    </tr>\n",
              "    <tr>\n",
              "      <th>2023-03-09 00:00:00+08:00</th>\n",
              "      <td>525.000000</td>\n",
              "      <td>526.000000</td>\n",
              "      <td>522.000000</td>\n",
              "      <td>522.000000</td>\n",
              "      <td>2.155758e+07</td>\n",
              "    </tr>\n",
              "    <tr>\n",
              "      <th>2023-03-10 00:00:00+08:00</th>\n",
              "      <td>515.000000</td>\n",
              "      <td>516.000000</td>\n",
              "      <td>511.000000</td>\n",
              "      <td>513.000000</td>\n",
              "      <td>2.404560e+07</td>\n",
              "    </tr>\n",
              "  </tbody>\n",
              "</table>\n",
              "<p>8467 rows × 5 columns</p>\n",
              "</div>\n",
              "      <button class=\"colab-df-convert\" onclick=\"convertToInteractive('df-1dc38707-d49c-464b-9752-403ab1c9cc86')\"\n",
              "              title=\"Convert this dataframe to an interactive table.\"\n",
              "              style=\"display:none;\">\n",
              "        \n",
              "  <svg xmlns=\"http://www.w3.org/2000/svg\" height=\"24px\"viewBox=\"0 0 24 24\"\n",
              "       width=\"24px\">\n",
              "    <path d=\"M0 0h24v24H0V0z\" fill=\"none\"/>\n",
              "    <path d=\"M18.56 5.44l.94 2.06.94-2.06 2.06-.94-2.06-.94-.94-2.06-.94 2.06-2.06.94zm-11 1L8.5 8.5l.94-2.06 2.06-.94-2.06-.94L8.5 2.5l-.94 2.06-2.06.94zm10 10l.94 2.06.94-2.06 2.06-.94-2.06-.94-.94-2.06-.94 2.06-2.06.94z\"/><path d=\"M17.41 7.96l-1.37-1.37c-.4-.4-.92-.59-1.43-.59-.52 0-1.04.2-1.43.59L10.3 9.45l-7.72 7.72c-.78.78-.78 2.05 0 2.83L4 21.41c.39.39.9.59 1.41.59.51 0 1.02-.2 1.41-.59l7.78-7.78 2.81-2.81c.8-.78.8-2.07 0-2.86zM5.41 20L4 18.59l7.72-7.72 1.47 1.35L5.41 20z\"/>\n",
              "  </svg>\n",
              "      </button>\n",
              "      \n",
              "  <style>\n",
              "    .colab-df-container {\n",
              "      display:flex;\n",
              "      flex-wrap:wrap;\n",
              "      gap: 12px;\n",
              "    }\n",
              "\n",
              "    .colab-df-convert {\n",
              "      background-color: #E8F0FE;\n",
              "      border: none;\n",
              "      border-radius: 50%;\n",
              "      cursor: pointer;\n",
              "      display: none;\n",
              "      fill: #1967D2;\n",
              "      height: 32px;\n",
              "      padding: 0 0 0 0;\n",
              "      width: 32px;\n",
              "    }\n",
              "\n",
              "    .colab-df-convert:hover {\n",
              "      background-color: #E2EBFA;\n",
              "      box-shadow: 0px 1px 2px rgba(60, 64, 67, 0.3), 0px 1px 3px 1px rgba(60, 64, 67, 0.15);\n",
              "      fill: #174EA6;\n",
              "    }\n",
              "\n",
              "    [theme=dark] .colab-df-convert {\n",
              "      background-color: #3B4455;\n",
              "      fill: #D2E3FC;\n",
              "    }\n",
              "\n",
              "    [theme=dark] .colab-df-convert:hover {\n",
              "      background-color: #434B5C;\n",
              "      box-shadow: 0px 1px 3px 1px rgba(0, 0, 0, 0.15);\n",
              "      filter: drop-shadow(0px 1px 2px rgba(0, 0, 0, 0.3));\n",
              "      fill: #FFFFFF;\n",
              "    }\n",
              "  </style>\n",
              "\n",
              "      <script>\n",
              "        const buttonEl =\n",
              "          document.querySelector('#df-1dc38707-d49c-464b-9752-403ab1c9cc86 button.colab-df-convert');\n",
              "        buttonEl.style.display =\n",
              "          google.colab.kernel.accessAllowed ? 'block' : 'none';\n",
              "\n",
              "        async function convertToInteractive(key) {\n",
              "          const element = document.querySelector('#df-1dc38707-d49c-464b-9752-403ab1c9cc86');\n",
              "          const dataTable =\n",
              "            await google.colab.kernel.invokeFunction('convertToInteractive',\n",
              "                                                     [key], {});\n",
              "          if (!dataTable) return;\n",
              "\n",
              "          const docLinkHtml = 'Like what you see? Visit the ' +\n",
              "            '<a target=\"_blank\" href=https://colab.research.google.com/notebooks/data_table.ipynb>data table notebook</a>'\n",
              "            + ' to learn more about interactive tables.';\n",
              "          element.innerHTML = '';\n",
              "          dataTable['output_type'] = 'display_data';\n",
              "          await google.colab.output.renderOutput(dataTable, element);\n",
              "          const docLink = document.createElement('div');\n",
              "          docLink.innerHTML = docLinkHtml;\n",
              "          element.appendChild(docLink);\n",
              "        }\n",
              "      </script>\n",
              "    </div>\n",
              "  </div>\n",
              "  "
            ]
          },
          "metadata": {},
          "execution_count": 3
        }
      ]
    },
    {
      "cell_type": "markdown",
      "source": [
        "### **投資成本效益分析**"
      ],
      "metadata": {
        "id": "0AwX_sXiSP4Z"
      }
    },
    {
      "cell_type": "code",
      "source": [
        "BASIC_Info = {\"Season\": [\"2022Q3\", \"2022Q2\", \"2022Q1\", \"2021Q4\", \"2021Q3\", \"2021Q2\", \"2021Q1\", \"2020Q4\"],\n",
        "              \"PE_Ratio\": [2.23, 2.98, 3.29, 4.45, 4.75, 4.95, 5.42, 6.01],\n",
        "              \"NAV\": [179.07, 167.60, 153.98, 143.68, 128.51, 119.27, 112.58, 106.47],\n",
        "              }\n",
        "BASIC_Info['NAV_Growth'] = pd.Series(BASIC_Info['NAV']) / pd.Series(BASIC_Info['NAV']).shift(-1) - 1\n",
        "#基本資訊\n",
        "print('財報季度: {:s}'.format(BASIC_Info[\"Season\"][0]))\n",
        "print('股價最新日期: {:s}'.format(str(df.index[-1])))\n",
        "print('股票價格: {:.2f}元'.format(df[\"Close\"][-1]))\n",
        "print('股票淨值: {:.2f}元'.format(BASIC_Info[\"NAV\"][0]), '(本益比: {:.2f})'.format(df[\"Close\"][-1] / BASIC_Info[\"NAV\"][0]))\n",
        "print('歷史最低本益比: {:.2f}'.format(min(BASIC_Info[\"PE_Ratio\"])))\n",
        "print('平均淨值成長率(季/%): {:.2f}%\\n'.format(np.mean(BASIC_Info[\"NAV_Growth\"][:-1]) * 100))\n",
        "\n",
        "#風險評估\n",
        "print('*回收期評估: {:.2f}年~{:.2f}年'.format(np.log(df[\"Close\"][-1] / min(BASIC_Info[\"PE_Ratio\"]) / BASIC_Info[\"NAV\"][0]) / np.log(1 + np.mean(BASIC_Info[\"NAV_Growth\"][:-1])) / 4, np.log(df[\"Close\"][-1] / np.mean(BASIC_Info[\"PE_Ratio\"]) / BASIC_Info[\"NAV\"][0]) / np.log(1 + np.mean(BASIC_Info[\"NAV_Growth\"][:-1])) / 4))\n",
        "pd.DataFrame(BASIC_Info)"
      ],
      "metadata": {
        "colab": {
          "base_uri": "https://localhost:8080/",
          "height": 446
        },
        "id": "n-aRowcbSPT4",
        "outputId": "65799dec-f400-4bdf-bb6f-ac38ec352afa"
      },
      "execution_count": null,
      "outputs": [
        {
          "output_type": "stream",
          "name": "stdout",
          "text": [
            "財報季度: 2022Q3\n",
            "股價最新日期: 2023-03-10 00:00:00+08:00\n",
            "股票價格: 513.00元\n",
            "股票淨值: 179.07元 (本益比: 2.86)\n",
            "歷史最低本益比: 2.23\n",
            "平均淨值成長率(季/%): 7.73%\n",
            "\n",
            "*回收期評估: 0.84年~-1.33年\n"
          ]
        },
        {
          "output_type": "execute_result",
          "data": {
            "text/plain": [
              "   Season  PE_Ratio     NAV  NAV_Growth\n",
              "0  2022Q3      2.23  179.07    0.068437\n",
              "1  2022Q2      2.98  167.60    0.088453\n",
              "2  2022Q1      3.29  153.98    0.071687\n",
              "3  2021Q4      4.45  143.68    0.118045\n",
              "4  2021Q3      4.75  128.51    0.077471\n",
              "5  2021Q2      4.95  119.27    0.059424\n",
              "6  2021Q1      5.42  112.58    0.057387\n",
              "7  2020Q4      6.01  106.47         NaN"
            ],
            "text/html": [
              "\n",
              "  <div id=\"df-81f680e4-b923-4d67-a2ed-e4c44a916771\">\n",
              "    <div class=\"colab-df-container\">\n",
              "      <div>\n",
              "<style scoped>\n",
              "    .dataframe tbody tr th:only-of-type {\n",
              "        vertical-align: middle;\n",
              "    }\n",
              "\n",
              "    .dataframe tbody tr th {\n",
              "        vertical-align: top;\n",
              "    }\n",
              "\n",
              "    .dataframe thead th {\n",
              "        text-align: right;\n",
              "    }\n",
              "</style>\n",
              "<table border=\"1\" class=\"dataframe\">\n",
              "  <thead>\n",
              "    <tr style=\"text-align: right;\">\n",
              "      <th></th>\n",
              "      <th>Season</th>\n",
              "      <th>PE_Ratio</th>\n",
              "      <th>NAV</th>\n",
              "      <th>NAV_Growth</th>\n",
              "    </tr>\n",
              "  </thead>\n",
              "  <tbody>\n",
              "    <tr>\n",
              "      <th>0</th>\n",
              "      <td>2022Q3</td>\n",
              "      <td>2.23</td>\n",
              "      <td>179.07</td>\n",
              "      <td>0.068437</td>\n",
              "    </tr>\n",
              "    <tr>\n",
              "      <th>1</th>\n",
              "      <td>2022Q2</td>\n",
              "      <td>2.98</td>\n",
              "      <td>167.60</td>\n",
              "      <td>0.088453</td>\n",
              "    </tr>\n",
              "    <tr>\n",
              "      <th>2</th>\n",
              "      <td>2022Q1</td>\n",
              "      <td>3.29</td>\n",
              "      <td>153.98</td>\n",
              "      <td>0.071687</td>\n",
              "    </tr>\n",
              "    <tr>\n",
              "      <th>3</th>\n",
              "      <td>2021Q4</td>\n",
              "      <td>4.45</td>\n",
              "      <td>143.68</td>\n",
              "      <td>0.118045</td>\n",
              "    </tr>\n",
              "    <tr>\n",
              "      <th>4</th>\n",
              "      <td>2021Q3</td>\n",
              "      <td>4.75</td>\n",
              "      <td>128.51</td>\n",
              "      <td>0.077471</td>\n",
              "    </tr>\n",
              "    <tr>\n",
              "      <th>5</th>\n",
              "      <td>2021Q2</td>\n",
              "      <td>4.95</td>\n",
              "      <td>119.27</td>\n",
              "      <td>0.059424</td>\n",
              "    </tr>\n",
              "    <tr>\n",
              "      <th>6</th>\n",
              "      <td>2021Q1</td>\n",
              "      <td>5.42</td>\n",
              "      <td>112.58</td>\n",
              "      <td>0.057387</td>\n",
              "    </tr>\n",
              "    <tr>\n",
              "      <th>7</th>\n",
              "      <td>2020Q4</td>\n",
              "      <td>6.01</td>\n",
              "      <td>106.47</td>\n",
              "      <td>NaN</td>\n",
              "    </tr>\n",
              "  </tbody>\n",
              "</table>\n",
              "</div>\n",
              "      <button class=\"colab-df-convert\" onclick=\"convertToInteractive('df-81f680e4-b923-4d67-a2ed-e4c44a916771')\"\n",
              "              title=\"Convert this dataframe to an interactive table.\"\n",
              "              style=\"display:none;\">\n",
              "        \n",
              "  <svg xmlns=\"http://www.w3.org/2000/svg\" height=\"24px\"viewBox=\"0 0 24 24\"\n",
              "       width=\"24px\">\n",
              "    <path d=\"M0 0h24v24H0V0z\" fill=\"none\"/>\n",
              "    <path d=\"M18.56 5.44l.94 2.06.94-2.06 2.06-.94-2.06-.94-.94-2.06-.94 2.06-2.06.94zm-11 1L8.5 8.5l.94-2.06 2.06-.94-2.06-.94L8.5 2.5l-.94 2.06-2.06.94zm10 10l.94 2.06.94-2.06 2.06-.94-2.06-.94-.94-2.06-.94 2.06-2.06.94z\"/><path d=\"M17.41 7.96l-1.37-1.37c-.4-.4-.92-.59-1.43-.59-.52 0-1.04.2-1.43.59L10.3 9.45l-7.72 7.72c-.78.78-.78 2.05 0 2.83L4 21.41c.39.39.9.59 1.41.59.51 0 1.02-.2 1.41-.59l7.78-7.78 2.81-2.81c.8-.78.8-2.07 0-2.86zM5.41 20L4 18.59l7.72-7.72 1.47 1.35L5.41 20z\"/>\n",
              "  </svg>\n",
              "      </button>\n",
              "      \n",
              "  <style>\n",
              "    .colab-df-container {\n",
              "      display:flex;\n",
              "      flex-wrap:wrap;\n",
              "      gap: 12px;\n",
              "    }\n",
              "\n",
              "    .colab-df-convert {\n",
              "      background-color: #E8F0FE;\n",
              "      border: none;\n",
              "      border-radius: 50%;\n",
              "      cursor: pointer;\n",
              "      display: none;\n",
              "      fill: #1967D2;\n",
              "      height: 32px;\n",
              "      padding: 0 0 0 0;\n",
              "      width: 32px;\n",
              "    }\n",
              "\n",
              "    .colab-df-convert:hover {\n",
              "      background-color: #E2EBFA;\n",
              "      box-shadow: 0px 1px 2px rgba(60, 64, 67, 0.3), 0px 1px 3px 1px rgba(60, 64, 67, 0.15);\n",
              "      fill: #174EA6;\n",
              "    }\n",
              "\n",
              "    [theme=dark] .colab-df-convert {\n",
              "      background-color: #3B4455;\n",
              "      fill: #D2E3FC;\n",
              "    }\n",
              "\n",
              "    [theme=dark] .colab-df-convert:hover {\n",
              "      background-color: #434B5C;\n",
              "      box-shadow: 0px 1px 3px 1px rgba(0, 0, 0, 0.15);\n",
              "      filter: drop-shadow(0px 1px 2px rgba(0, 0, 0, 0.3));\n",
              "      fill: #FFFFFF;\n",
              "    }\n",
              "  </style>\n",
              "\n",
              "      <script>\n",
              "        const buttonEl =\n",
              "          document.querySelector('#df-81f680e4-b923-4d67-a2ed-e4c44a916771 button.colab-df-convert');\n",
              "        buttonEl.style.display =\n",
              "          google.colab.kernel.accessAllowed ? 'block' : 'none';\n",
              "\n",
              "        async function convertToInteractive(key) {\n",
              "          const element = document.querySelector('#df-81f680e4-b923-4d67-a2ed-e4c44a916771');\n",
              "          const dataTable =\n",
              "            await google.colab.kernel.invokeFunction('convertToInteractive',\n",
              "                                                     [key], {});\n",
              "          if (!dataTable) return;\n",
              "\n",
              "          const docLinkHtml = 'Like what you see? Visit the ' +\n",
              "            '<a target=\"_blank\" href=https://colab.research.google.com/notebooks/data_table.ipynb>data table notebook</a>'\n",
              "            + ' to learn more about interactive tables.';\n",
              "          element.innerHTML = '';\n",
              "          dataTable['output_type'] = 'display_data';\n",
              "          await google.colab.output.renderOutput(dataTable, element);\n",
              "          const docLink = document.createElement('div');\n",
              "          docLink.innerHTML = docLinkHtml;\n",
              "          element.appendChild(docLink);\n",
              "        }\n",
              "      </script>\n",
              "    </div>\n",
              "  </div>\n",
              "  "
            ]
          },
          "metadata": {},
          "execution_count": 4
        }
      ]
    },
    {
      "cell_type": "markdown",
      "source": [
        "### **資金部位最佳化**"
      ],
      "metadata": {
        "id": "l-wWEUdpbd4M"
      }
    },
    {
      "cell_type": "code",
      "source": [
        "class PSO_gamma():\n",
        "    def __init__(self, N, iteration, c1, c2, sample, lim):\n",
        "        self.lim = lim\n",
        "        self.sample = sample\n",
        "        self.c1, self.c2 = c1, c2\n",
        "        self.iter = iteration\n",
        "        self.particle = N\n",
        "        self.dimension = 2\n",
        "        self.pos = np.random.uniform(low = 0, high = self.lim, size= (N, self.dimension))\n",
        "        self.out = self.fun(self.pos)\n",
        "        self.pbest = self.pos\n",
        "        self.gbest = self.pos[np.argmin(self.out, axis = 0)]\n",
        "        self.velocity = np.zeros((N, self.dimension))\n",
        "        \n",
        "    def fun(self, pos):\n",
        "        x1, x2, out = pos[:,0],pos[:,1], []\n",
        "        for loc, scale in zip(x1, x2):\n",
        "            dist = scipy.stats.gamma(loc, scale=scale)\n",
        "            distance = np.mean([1 - scipy.stats.ks_2samp(self.sample, dist.rvs(size=len(self.sample) * 16))[1] for _ in range(16)])\n",
        "            out.append(distance)\n",
        "        return np.array(out)\n",
        "    \n",
        "    def update_pbest(self):\n",
        "        out = self.fun(self.pos)\n",
        "        for i in range(self.particle):\n",
        "            if out[i] < self.out[i]:\n",
        "                self.pbest[i] = self.pos[i]\n",
        "            if out[i] < self.fun(self.gbest.reshape(1, -1))[0]:\n",
        "                self.gbest = self.pos[i]\n",
        "        self.out = out\n",
        "        return self.gbest, self.fun(self.gbest.reshape(1, -1))[0]\n",
        "    \n",
        "    def update_velocity(self):\n",
        "        valid = np.array([0 if len(np.where(self.pos[i]==self.gbest)[0]) >= self.dimension else 1 for i in range(self.particle)])\n",
        "        w = np.random.uniform(low=0.4, high=0.9, size=(self.particle)) * valid \n",
        "        w = np.array([w, w]).T\n",
        "        v1 = w * self.velocity\n",
        "        v2 = w * self.c1 * (self.pbest - self.pos)\n",
        "        v3 = w * self.c2 * (self.gbest - self.pos)\n",
        "        self.velocity = (v1 + v2 + v3) *  (1 - 1 / np.exp(scipy.spatial.distance.euclidean(self.pos[:,0], self.pos[:,1] / 10)))\n",
        "        \n",
        "    def update_position(self):\n",
        "        new_pos = self.pos + self.velocity\n",
        "        for i in range(self.particle):\n",
        "            if new_pos[i][0] < 0 or new_pos[i][1] < 0 or new_pos[i][0] > self.lim or new_pos[i][1] > self.lim:\n",
        "                new_pos[i] = np.random.uniform(low=0, high= self.lim, size=(self.dimension))\n",
        "                self.velocity[i] = [0 for i in range(self.dimension)]\n",
        "            self.pos = new_pos\n",
        "            \n",
        "    def fit(self):\n",
        "        for i in range(self.iter):\n",
        "            self.update_velocity()\n",
        "            self.update_position()\n",
        "            gbest, val = self.update_pbest()\n",
        "\n",
        "        print('shape:',gbest[0],', scale:', gbest[1])\n",
        "        dist = scipy.stats.gamma(gbest[0], scale=gbest[1])\n",
        "\n",
        "        df = pd.DataFrame({'label':['sample' for _ in self.sample] + ['gamma' for _ in range(len(self.sample)*16)], 'value': list(self.sample) + list(dist.rvs(size=len(self.sample)*16))})\n",
        "        sns.displot(df, x=\"value\", hue=\"label\", stat=\"density\")\n",
        "        plt.show()\n",
        "        return dist"
      ],
      "metadata": {
        "id": "QtoMXGFBbTX-"
      },
      "execution_count": null,
      "outputs": []
    },
    {
      "cell_type": "code",
      "source": [
        "sample = BASIC_Info['PE_Ratio']#scipy.stats.gamma(0.5, scale= 2).rvs(size=64)\n",
        "gen = PSO_gamma(N = 128, iteration = 32, c1 = 1, c2 = 1, sample = sample, lim = np.mean(BASIC_Info['PE_Ratio']))\n",
        "gamma = gen.fit()\n",
        "gamma"
      ],
      "metadata": {
        "colab": {
          "base_uri": "https://localhost:8080/",
          "height": 406
        },
        "id": "eoZyqJlWb7Ds",
        "outputId": "b6003b58-89a9-438c-c6b9-16b547589f94"
      },
      "execution_count": null,
      "outputs": [
        {
          "output_type": "stream",
          "name": "stdout",
          "text": [
            "shape: 4.221486241191017 , scale: 1.047082735719444\n"
          ]
        },
        {
          "output_type": "display_data",
          "data": {
            "text/plain": [
              "<Figure size 433.875x360 with 1 Axes>"
            ],
            "image/png": "[encoded data removed]"
          },
          "metadata": {
            "needs_background": "light"
          }
        },
        {
          "output_type": "execute_result",
          "data": {
            "text/plain": [
              "<scipy.stats._distn_infrastructure.rv_continuous_frozen at 0x7f6dd6cb3280>"
            ]
          },
          "metadata": {},
          "execution_count": 6
        }
      ]
    },
    {
      "cell_type": "code",
      "source": [
        "print('長期穩定成長的情況下, 可投入之資本部位: {:.2f} %'.format(gamma.cdf(df[\"Close\"][-1] / BASIC_Info[\"NAV\"][0])* 100))\n",
        "plt.plot([1 - gamma.cdf(i) for i in range(10)])\n",
        "plt.plot([df[\"Close\"][-1] / BASIC_Info[\"NAV\"][0], df[\"Close\"][-1] / BASIC_Info[\"NAV\"][0]], [0, 1], color = 'red')\n",
        "plt.show()"
      ],
      "metadata": {
        "colab": {
          "base_uri": "https://localhost:8080/",
          "height": 283
        },
        "id": "ghh17rmWvdP6",
        "outputId": "306589c6-05bc-4547-d535-b746cfc153c9"
      },
      "execution_count": null,
      "outputs": [
        {
          "output_type": "stream",
          "name": "stdout",
          "text": [
            "長期穩定成長的情況下, 可投入之資本部位: 25.37 %\n"
          ]
        },
        {
          "output_type": "display_data",
          "data": {
            "text/plain": [
              "<Figure size 432x288 with 1 Axes>"
            ],
            "image/png": "[encoded data removed]"
          },
          "metadata": {
            "needs_background": "light"
          }
        }
      ]
    }
  ]
}